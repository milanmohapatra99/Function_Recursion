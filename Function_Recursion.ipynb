{
 "cells": [
  {
   "cell_type": "code",
   "execution_count": 1,
   "id": "572cd714",
   "metadata": {},
   "outputs": [
    {
     "name": "stdout",
     "output_type": "stream",
     "text": [
      "72.25 84.75\n"
     ]
    }
   ],
   "source": [
    "marks = [45,78,89,77]\n",
    "percentage = (sum(marks)/400)*100\n",
    "marks2 = [75,98,88,78]\n",
    "percentage2 = (sum(marks2)/400)*100\n",
    "print(percentage,percentage2)"
   ]
  },
  {
   "cell_type": "code",
   "execution_count": 3,
   "id": "b27f6cf4",
   "metadata": {},
   "outputs": [
    {
     "name": "stdout",
     "output_type": "stream",
     "text": [
      "72.25 84.75\n"
     ]
    }
   ],
   "source": [
    "def percent(marks):\n",
    "    return((marks[0] + marks[1] + marks[2] + marks[3])/400)*100\n",
    "marks = [45,78,89,77]\n",
    "percentage = percent(marks)\n",
    "marks2 = [75,98,88,78]\n",
    "percentage2 = percent(marks2)\n",
    "print(percentage,percentage2)\n"
   ]
  },
  {
   "cell_type": "code",
   "execution_count": 7,
   "id": "0007cf31",
   "metadata": {},
   "outputs": [
    {
     "name": "stdout",
     "output_type": "stream",
     "text": [
      "38\n"
     ]
    }
   ],
   "source": [
    "def greet(name):\n",
    "    print(\"Good Day,\"+ name)\n",
    "def mySum(n1,n2):\n",
    "    return (n1 + n2)\n",
    "greet = (\"Lucy\")\n",
    "s=mySum(6,32)\n",
    "print(s)"
   ]
  },
  {
   "cell_type": "code",
   "execution_count": 3,
   "id": "d6d73249",
   "metadata": {},
   "outputs": [
    {
     "name": "stdout",
     "output_type": "stream",
     "text": [
      "120\n"
     ]
    }
   ],
   "source": [
    "def factorial_iter(n):\n",
    "    product = 1\n",
    "    for i in range(n):\n",
    "        product = product *(i+1)\n",
    "    return product\n",
    "print(factorial_iter(5))\n",
    "    "
   ]
  },
  {
   "cell_type": "code",
   "execution_count": 5,
   "id": "8aad346c",
   "metadata": {},
   "outputs": [
    {
     "name": "stdout",
     "output_type": "stream",
     "text": [
      "120\n"
     ]
    }
   ],
   "source": [
    "def factorial_recursive(n):\n",
    "    if n == 1 or n == 0:\n",
    "        return 1\n",
    "    return n * factorial_recursive(n-1)\n",
    "f = factorial_recursive(5)\n",
    "print(f)\n",
    "    "
   ]
  },
  {
   "cell_type": "code",
   "execution_count": 6,
   "id": "02c21727",
   "metadata": {},
   "outputs": [
    {
     "name": "stdout",
     "output_type": "stream",
     "text": [
      "Enter 1st no:- 23\n",
      "Enter 2nd no:- 56\n",
      "Enter 3rd no:- 12\n",
      "maximum no is:- 56\n"
     ]
    }
   ],
   "source": [
    "# w.a.p using function to find greatest of three numbers\n",
    "def maximum(num1,num2,num3):\n",
    "    if (num1>num2):\n",
    "        if(num1 > num3):\n",
    "            return num1\n",
    "        else:\n",
    "            return num3\n",
    "    else:\n",
    "        if (num2>num3):\n",
    "            return num2\n",
    "        else:\n",
    "            return num3\n",
    "m =  int(input(\"Enter 1st no:- \")) \n",
    "m1 = int(input(\"Enter 2nd no:- \"))       \n",
    "m2 = int(input(\"Enter 3rd no:- \")) \n",
    "print(\"maximum no is:-\",maximum(m,m1,m2))\n",
    "\n"
   ]
  },
  {
   "cell_type": "code",
   "execution_count": 9,
   "id": "36d4d919",
   "metadata": {},
   "outputs": [
    {
     "name": "stdout",
     "output_type": "stream",
     "text": [
      "Enter Temp:-0\n",
      "Farhanite temp. is:-32.0\n"
     ]
    }
   ],
   "source": [
    "# w.a.p using function to convert celcius to farhanite\n",
    "def farh(cel):\n",
    "    return (cel * (9/5)) + 32 \n",
    "c = int(input(\"Enter Temp:-\"))\n",
    "f=farh(c)\n",
    "print(\"Farhanite temp. is:-\" + str(f))"
   ]
  },
  {
   "cell_type": "code",
   "execution_count": 11,
   "id": "894ae5ca",
   "metadata": {},
   "outputs": [
    {
     "name": "stdout",
     "output_type": "stream",
     "text": [
      "Hello How are You? "
     ]
    }
   ],
   "source": [
    "# how do you prevent a print() to print a new line at the end\n",
    "print(\"Hello\",end=\" \")\n",
    "print(\"How\",end=\" \")\n",
    "print(\"are\",end=\" \")\n",
    "print(\"You?\",end=\" \")"
   ]
  },
  {
   "cell_type": "code",
   "execution_count": 17,
   "id": "7d96ef06",
   "metadata": {},
   "outputs": [
    {
     "name": "stdout",
     "output_type": "stream",
     "text": [
      "Enter the value of n:-3\n",
      "sum of n nos is:- 6\n"
     ]
    }
   ],
   "source": [
    "#w.a.p using recursive function to calculate the sum of n natural numbers\n",
    "def sumof_recursive(n):\n",
    "    if n<= 1:\n",
    "        return n\n",
    "    return n + sumof_recursive(n-1)\n",
    "n = int(input(\"Enter the value of n:-\"))\n",
    "print(\"sum of n nos is:-\",sumof_recursive(n)) "
   ]
  },
  {
   "cell_type": "code",
   "execution_count": 20,
   "id": "541ec033",
   "metadata": {},
   "outputs": [
    {
     "name": "stdout",
     "output_type": "stream",
     "text": [
      "Enter the value of n:-5\n",
      "* * * * * \n",
      "* * * * \n",
      "* * * \n",
      "* * \n",
      "* \n"
     ]
    }
   ],
   "source": [
    "# w.a.p using function to print 1st n lines of downward rightangle trangle pattern\n",
    "n = int(input(\"Enter the value of n:-\"))\n",
    "for i in range(n):\n",
    "    print(\"* \" * (n-i))"
   ]
  },
  {
   "cell_type": "code",
   "execution_count": 22,
   "id": "38f55a09",
   "metadata": {},
   "outputs": [
    {
     "name": "stdout",
     "output_type": "stream",
     "text": [
      "Enter length:-5\n",
      "Centimeter is:-12.7\n"
     ]
    }
   ],
   "source": [
    "# w.a.p using function which converts inches to cms\n",
    "def centi(inc):\n",
    "    return inc * 2.54\n",
    "i = int(input(\"Enter length:-\"))\n",
    "f=centi(i)\n",
    "print(\"Centimeter is:-\" + str(f)) "
   ]
  },
  {
   "cell_type": "code",
   "execution_count": 27,
   "id": "885c3d96",
   "metadata": {},
   "outputs": [
    {
     "name": "stdout",
     "output_type": "stream",
     "text": [
      "Ram is  a  boy\n"
     ]
    }
   ],
   "source": [
    "# w.a.p using function to remove a given word from a string and strip it at same time\n",
    "def remove_split(string,word):\n",
    "    newstr = string.replace(word,\"\")\n",
    "    return newstr.strip()\n",
    "this = \"    Ram is  a good boy     \" \n",
    "n = remove_split(this,\"good\")\n",
    "print(n)"
   ]
  },
  {
   "cell_type": "code",
   "execution_count": 36,
   "id": "9cfbcf59",
   "metadata": {},
   "outputs": [
    {
     "name": "stdout",
     "output_type": "stream",
     "text": [
      "Enter number:-4\n",
      "4 x 1 = 4\n",
      "4 x 2 = 8\n",
      "4 x 3 = 12\n",
      "4 x 4 = 16\n",
      "4 x 5 = 20\n",
      "4 x 6 = 24\n",
      "4 x 7 = 28\n",
      "4 x 8 = 32\n",
      "4 x 9 = 36\n",
      "4 x 10 = 40\n",
      "None\n"
     ]
    }
   ],
   "source": [
    "# w.a.p to print multiplication table of a given number\n",
    "def mul_table(n):\n",
    "    for i in range(10):\n",
    "        print(n,\"x\",i+1,\"=\",n*(i+1))\n",
    "n = int(input(\"Enter number:-\"))\n",
    "print(mul_table(n))"
   ]
  },
  {
   "cell_type": "code",
   "execution_count": null,
   "id": "4c0263ad",
   "metadata": {},
   "outputs": [],
   "source": []
  }
 ],
 "metadata": {
  "kernelspec": {
   "display_name": "Python 3 (ipykernel)",
   "language": "python",
   "name": "python3"
  },
  "language_info": {
   "codemirror_mode": {
    "name": "ipython",
    "version": 3
   },
   "file_extension": ".py",
   "mimetype": "text/x-python",
   "name": "python",
   "nbconvert_exporter": "python",
   "pygments_lexer": "ipython3",
   "version": "3.9.7"
  }
 },
 "nbformat": 4,
 "nbformat_minor": 5
}
